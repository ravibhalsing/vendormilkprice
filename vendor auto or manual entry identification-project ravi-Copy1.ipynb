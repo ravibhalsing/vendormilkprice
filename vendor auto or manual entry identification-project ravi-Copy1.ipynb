{
 "cells": [
  {
   "cell_type": "code",
   "execution_count": 1,
   "metadata": {},
   "outputs": [],
   "source": [
    "import pandas as pd\n",
    "import numpy as np\n",
    "import matplotlib.pyplot as plt\n",
    "%matplotlib inline"
   ]
  },
  {
   "cell_type": "code",
   "execution_count": 2,
   "metadata": {},
   "outputs": [],
   "source": [
    "import os\n"
   ]
  },
  {
   "cell_type": "code",
   "execution_count": 3,
   "metadata": {},
   "outputs": [
    {
     "data": {
      "text/plain": [
       "'C:\\\\Users\\\\Sawali-7\\\\prabhat'"
      ]
     },
     "execution_count": 3,
     "metadata": {},
     "output_type": "execute_result"
    }
   ],
   "source": [
    "os.getcwd()"
   ]
  },
  {
   "cell_type": "code",
   "execution_count": 4,
   "metadata": {},
   "outputs": [],
   "source": [
    "os.chdir('C:/Users/Sawali-7/prabhat/all data/prabhat/prabhat data for project')"
   ]
  },
  {
   "cell_type": "code",
   "execution_count": 5,
   "metadata": {},
   "outputs": [],
   "source": [
    "df=pd.read_csv('vendor milk collection.csv')"
   ]
  },
  {
   "cell_type": "code",
   "execution_count": 6,
   "metadata": {},
   "outputs": [
    {
     "data": {
      "text/html": [
       "<div>\n",
       "<style scoped>\n",
       "    .dataframe tbody tr th:only-of-type {\n",
       "        vertical-align: middle;\n",
       "    }\n",
       "\n",
       "    .dataframe tbody tr th {\n",
       "        vertical-align: top;\n",
       "    }\n",
       "\n",
       "    .dataframe thead th {\n",
       "        text-align: right;\n",
       "    }\n",
       "</style>\n",
       "<table border=\"1\" class=\"dataframe\">\n",
       "  <thead>\n",
       "    <tr style=\"text-align: right;\">\n",
       "      <th></th>\n",
       "      <th>Chilling Center Code</th>\n",
       "      <th>Chilling Center Name</th>\n",
       "      <th>Vendor Code</th>\n",
       "      <th>Vendor Name</th>\n",
       "      <th>Challan No.</th>\n",
       "      <th>Sample No.</th>\n",
       "      <th>Collection Date</th>\n",
       "      <th>Shift</th>\n",
       "      <th>Vehicle Code</th>\n",
       "      <th>Milk Type</th>\n",
       "      <th>Weight Mode</th>\n",
       "      <th>Quality Mode</th>\n",
       "      <th>No. of Cans</th>\n",
       "      <th>Quantity in KG</th>\n",
       "      <th>Quantity in LTR</th>\n",
       "      <th>FAT</th>\n",
       "      <th>SNF</th>\n",
       "      <th>CLR</th>\n",
       "      <th>Rate</th>\n",
       "      <th>Total Amount</th>\n",
       "    </tr>\n",
       "  </thead>\n",
       "  <tbody>\n",
       "    <tr>\n",
       "      <th>0</th>\n",
       "      <td>8</td>\n",
       "      <td>Miri</td>\n",
       "      <td>90089</td>\n",
       "      <td>Raghunath Bapurao Gund</td>\n",
       "      <td>1.0</td>\n",
       "      <td>1.0</td>\n",
       "      <td>3-Jan-18</td>\n",
       "      <td>E</td>\n",
       "      <td>29</td>\n",
       "      <td>C</td>\n",
       "      <td>Auto</td>\n",
       "      <td>Auto</td>\n",
       "      <td>2</td>\n",
       "      <td>48.93</td>\n",
       "      <td>47.5</td>\n",
       "      <td>4.1</td>\n",
       "      <td>8.5</td>\n",
       "      <td>0.0</td>\n",
       "      <td>23.2</td>\n",
       "      <td>1102.00</td>\n",
       "    </tr>\n",
       "    <tr>\n",
       "      <th>1</th>\n",
       "      <td>8</td>\n",
       "      <td>Miri</td>\n",
       "      <td>91301</td>\n",
       "      <td>Dattatray Laxman Gund</td>\n",
       "      <td>4.0</td>\n",
       "      <td>4.0</td>\n",
       "      <td>3-Jan-18</td>\n",
       "      <td>E</td>\n",
       "      <td>29</td>\n",
       "      <td>C</td>\n",
       "      <td>Auto</td>\n",
       "      <td>Auto</td>\n",
       "      <td>2</td>\n",
       "      <td>17.80</td>\n",
       "      <td>17.3</td>\n",
       "      <td>4.2</td>\n",
       "      <td>8.1</td>\n",
       "      <td>0.0</td>\n",
       "      <td>22.6</td>\n",
       "      <td>390.98</td>\n",
       "    </tr>\n",
       "    <tr>\n",
       "      <th>2</th>\n",
       "      <td>8</td>\n",
       "      <td>Miri</td>\n",
       "      <td>91300</td>\n",
       "      <td>Ganesh Ravsaheb Zade</td>\n",
       "      <td>27.0</td>\n",
       "      <td>15.0</td>\n",
       "      <td>3-Jan-18</td>\n",
       "      <td>E</td>\n",
       "      <td>29</td>\n",
       "      <td>B</td>\n",
       "      <td>Auto</td>\n",
       "      <td>Auto</td>\n",
       "      <td>2</td>\n",
       "      <td>19.80</td>\n",
       "      <td>19.2</td>\n",
       "      <td>5.6</td>\n",
       "      <td>8.9</td>\n",
       "      <td>0.0</td>\n",
       "      <td>33.3</td>\n",
       "      <td>639.36</td>\n",
       "    </tr>\n",
       "    <tr>\n",
       "      <th>3</th>\n",
       "      <td>8</td>\n",
       "      <td>Miri</td>\n",
       "      <td>91301</td>\n",
       "      <td>Dattatray Laxman Gund</td>\n",
       "      <td>1.0</td>\n",
       "      <td>1.0</td>\n",
       "      <td>4-Jan-18</td>\n",
       "      <td>M</td>\n",
       "      <td>29</td>\n",
       "      <td>C</td>\n",
       "      <td>Auto</td>\n",
       "      <td>Auto</td>\n",
       "      <td>2</td>\n",
       "      <td>19.00</td>\n",
       "      <td>18.4</td>\n",
       "      <td>3.9</td>\n",
       "      <td>8.2</td>\n",
       "      <td>0.0</td>\n",
       "      <td>22.2</td>\n",
       "      <td>408.48</td>\n",
       "    </tr>\n",
       "    <tr>\n",
       "      <th>4</th>\n",
       "      <td>8</td>\n",
       "      <td>Miri</td>\n",
       "      <td>90089</td>\n",
       "      <td>Raghunath Bapurao Gund</td>\n",
       "      <td>2.0</td>\n",
       "      <td>2.0</td>\n",
       "      <td>4-Jan-18</td>\n",
       "      <td>M</td>\n",
       "      <td>29</td>\n",
       "      <td>C</td>\n",
       "      <td>Auto</td>\n",
       "      <td>Auto</td>\n",
       "      <td>2</td>\n",
       "      <td>49.00</td>\n",
       "      <td>47.6</td>\n",
       "      <td>4.6</td>\n",
       "      <td>8.5</td>\n",
       "      <td>0.0</td>\n",
       "      <td>24.2</td>\n",
       "      <td>1151.92</td>\n",
       "    </tr>\n",
       "  </tbody>\n",
       "</table>\n",
       "</div>"
      ],
      "text/plain": [
       "   Chilling Center Code Chilling Center Name  Vendor Code  \\\n",
       "0                     8                 Miri        90089   \n",
       "1                     8                 Miri        91301   \n",
       "2                     8                 Miri        91300   \n",
       "3                     8                 Miri        91301   \n",
       "4                     8                 Miri        90089   \n",
       "\n",
       "              Vendor Name  Challan No.  Sample No. Collection Date Shift  \\\n",
       "0  Raghunath Bapurao Gund          1.0         1.0        3-Jan-18     E   \n",
       "1   Dattatray Laxman Gund          4.0         4.0        3-Jan-18     E   \n",
       "2    Ganesh Ravsaheb Zade         27.0        15.0        3-Jan-18     E   \n",
       "3   Dattatray Laxman Gund          1.0         1.0        4-Jan-18     M   \n",
       "4  Raghunath Bapurao Gund          2.0         2.0        4-Jan-18     M   \n",
       "\n",
       "   Vehicle Code Milk Type Weight Mode Quality Mode  No. of Cans  \\\n",
       "0            29         C        Auto         Auto            2   \n",
       "1            29         C        Auto         Auto            2   \n",
       "2            29         B        Auto         Auto            2   \n",
       "3            29         C        Auto         Auto            2   \n",
       "4            29         C        Auto         Auto            2   \n",
       "\n",
       "   Quantity in KG  Quantity in LTR  FAT  SNF  CLR  Rate  Total Amount  \n",
       "0           48.93             47.5  4.1  8.5  0.0  23.2       1102.00  \n",
       "1           17.80             17.3  4.2  8.1  0.0  22.6        390.98  \n",
       "2           19.80             19.2  5.6  8.9  0.0  33.3        639.36  \n",
       "3           19.00             18.4  3.9  8.2  0.0  22.2        408.48  \n",
       "4           49.00             47.6  4.6  8.5  0.0  24.2       1151.92  "
      ]
     },
     "execution_count": 6,
     "metadata": {},
     "output_type": "execute_result"
    }
   ],
   "source": [
    "df.head()"
   ]
  },
  {
   "cell_type": "code",
   "execution_count": 7,
   "metadata": {},
   "outputs": [
    {
     "name": "stdout",
     "output_type": "stream",
     "text": [
      "['E' 'M']\n",
      "['Auto' 'Manual']\n",
      "['Auto' 'Manual']\n",
      "[90089 91301 91300 90073 90943 90278 91282 91284 90211 90065 91114 91314\n",
      " 91133 91129 91116 91323 91334 91335 91339 91353 91132 91380 91383 91390]\n"
     ]
    }
   ],
   "source": [
    "print(df['Shift'].unique())\n",
    "print(df['Weight Mode'].unique())\n",
    "print(df['Quality Mode'].unique())\n",
    "print(df['Vendor Code'].unique())"
   ]
  },
  {
   "cell_type": "code",
   "execution_count": 8,
   "metadata": {},
   "outputs": [
    {
     "data": {
      "text/plain": [
       "(10949, 20)"
      ]
     },
     "execution_count": 8,
     "metadata": {},
     "output_type": "execute_result"
    }
   ],
   "source": [
    "df.shape"
   ]
  },
  {
   "cell_type": "code",
   "execution_count": 9,
   "metadata": {},
   "outputs": [
    {
     "data": {
      "text/plain": [
       "Index(['Chilling Center Code', 'Chilling Center Name', 'Vendor Code',\n",
       "       'Vendor Name', 'Challan No.', 'Sample No.', 'Collection Date', 'Shift',\n",
       "       'Vehicle Code', 'Milk Type', 'Weight Mode', 'Quality Mode',\n",
       "       'No. of Cans', 'Quantity in KG', 'Quantity in LTR', 'FAT', 'SNF', 'CLR',\n",
       "       'Rate', 'Total Amount'],\n",
       "      dtype='object')"
      ]
     },
     "execution_count": 9,
     "metadata": {},
     "output_type": "execute_result"
    }
   ],
   "source": [
    "df.columns"
   ]
  },
  {
   "cell_type": "code",
   "execution_count": 10,
   "metadata": {},
   "outputs": [
    {
     "data": {
      "text/html": [
       "<div>\n",
       "<style scoped>\n",
       "    .dataframe tbody tr th:only-of-type {\n",
       "        vertical-align: middle;\n",
       "    }\n",
       "\n",
       "    .dataframe tbody tr th {\n",
       "        vertical-align: top;\n",
       "    }\n",
       "\n",
       "    .dataframe thead th {\n",
       "        text-align: right;\n",
       "    }\n",
       "</style>\n",
       "<table border=\"1\" class=\"dataframe\">\n",
       "  <thead>\n",
       "    <tr style=\"text-align: right;\">\n",
       "      <th></th>\n",
       "      <th>Chilling Center Code</th>\n",
       "      <th>Chilling Center Name</th>\n",
       "      <th>Vendor Code</th>\n",
       "      <th>Vendor Name</th>\n",
       "      <th>Challan No.</th>\n",
       "      <th>Sample No.</th>\n",
       "      <th>Collection Date</th>\n",
       "      <th>Shift</th>\n",
       "      <th>Vehicle Code</th>\n",
       "      <th>Milk Type</th>\n",
       "      <th>Weight Mode</th>\n",
       "      <th>Quality Mode</th>\n",
       "      <th>No. of Cans</th>\n",
       "      <th>Quantity in KG</th>\n",
       "      <th>Quantity in LTR</th>\n",
       "      <th>FAT</th>\n",
       "      <th>SNF</th>\n",
       "      <th>CLR</th>\n",
       "      <th>Rate</th>\n",
       "      <th>Total Amount</th>\n",
       "    </tr>\n",
       "  </thead>\n",
       "  <tbody>\n",
       "    <tr>\n",
       "      <th>0</th>\n",
       "      <td>8</td>\n",
       "      <td>Miri</td>\n",
       "      <td>90089</td>\n",
       "      <td>Raghunath Bapurao Gund</td>\n",
       "      <td>1.0</td>\n",
       "      <td>1.0</td>\n",
       "      <td>3-Jan-18</td>\n",
       "      <td>E</td>\n",
       "      <td>29</td>\n",
       "      <td>C</td>\n",
       "      <td>Auto</td>\n",
       "      <td>Auto</td>\n",
       "      <td>2</td>\n",
       "      <td>48.93</td>\n",
       "      <td>47.5</td>\n",
       "      <td>4.1</td>\n",
       "      <td>8.5</td>\n",
       "      <td>0.0</td>\n",
       "      <td>23.2</td>\n",
       "      <td>1102.00</td>\n",
       "    </tr>\n",
       "    <tr>\n",
       "      <th>1</th>\n",
       "      <td>8</td>\n",
       "      <td>Miri</td>\n",
       "      <td>91301</td>\n",
       "      <td>Dattatray Laxman Gund</td>\n",
       "      <td>4.0</td>\n",
       "      <td>4.0</td>\n",
       "      <td>3-Jan-18</td>\n",
       "      <td>E</td>\n",
       "      <td>29</td>\n",
       "      <td>C</td>\n",
       "      <td>Auto</td>\n",
       "      <td>Auto</td>\n",
       "      <td>2</td>\n",
       "      <td>17.80</td>\n",
       "      <td>17.3</td>\n",
       "      <td>4.2</td>\n",
       "      <td>8.1</td>\n",
       "      <td>0.0</td>\n",
       "      <td>22.6</td>\n",
       "      <td>390.98</td>\n",
       "    </tr>\n",
       "    <tr>\n",
       "      <th>2</th>\n",
       "      <td>8</td>\n",
       "      <td>Miri</td>\n",
       "      <td>91300</td>\n",
       "      <td>Ganesh Ravsaheb Zade</td>\n",
       "      <td>27.0</td>\n",
       "      <td>15.0</td>\n",
       "      <td>3-Jan-18</td>\n",
       "      <td>E</td>\n",
       "      <td>29</td>\n",
       "      <td>B</td>\n",
       "      <td>Auto</td>\n",
       "      <td>Auto</td>\n",
       "      <td>2</td>\n",
       "      <td>19.80</td>\n",
       "      <td>19.2</td>\n",
       "      <td>5.6</td>\n",
       "      <td>8.9</td>\n",
       "      <td>0.0</td>\n",
       "      <td>33.3</td>\n",
       "      <td>639.36</td>\n",
       "    </tr>\n",
       "    <tr>\n",
       "      <th>3</th>\n",
       "      <td>8</td>\n",
       "      <td>Miri</td>\n",
       "      <td>91301</td>\n",
       "      <td>Dattatray Laxman Gund</td>\n",
       "      <td>1.0</td>\n",
       "      <td>1.0</td>\n",
       "      <td>4-Jan-18</td>\n",
       "      <td>M</td>\n",
       "      <td>29</td>\n",
       "      <td>C</td>\n",
       "      <td>Auto</td>\n",
       "      <td>Auto</td>\n",
       "      <td>2</td>\n",
       "      <td>19.00</td>\n",
       "      <td>18.4</td>\n",
       "      <td>3.9</td>\n",
       "      <td>8.2</td>\n",
       "      <td>0.0</td>\n",
       "      <td>22.2</td>\n",
       "      <td>408.48</td>\n",
       "    </tr>\n",
       "    <tr>\n",
       "      <th>4</th>\n",
       "      <td>8</td>\n",
       "      <td>Miri</td>\n",
       "      <td>90089</td>\n",
       "      <td>Raghunath Bapurao Gund</td>\n",
       "      <td>2.0</td>\n",
       "      <td>2.0</td>\n",
       "      <td>4-Jan-18</td>\n",
       "      <td>M</td>\n",
       "      <td>29</td>\n",
       "      <td>C</td>\n",
       "      <td>Auto</td>\n",
       "      <td>Auto</td>\n",
       "      <td>2</td>\n",
       "      <td>49.00</td>\n",
       "      <td>47.6</td>\n",
       "      <td>4.6</td>\n",
       "      <td>8.5</td>\n",
       "      <td>0.0</td>\n",
       "      <td>24.2</td>\n",
       "      <td>1151.92</td>\n",
       "    </tr>\n",
       "  </tbody>\n",
       "</table>\n",
       "</div>"
      ],
      "text/plain": [
       "   Chilling Center Code Chilling Center Name  Vendor Code  \\\n",
       "0                     8                 Miri        90089   \n",
       "1                     8                 Miri        91301   \n",
       "2                     8                 Miri        91300   \n",
       "3                     8                 Miri        91301   \n",
       "4                     8                 Miri        90089   \n",
       "\n",
       "              Vendor Name  Challan No.  Sample No. Collection Date Shift  \\\n",
       "0  Raghunath Bapurao Gund          1.0         1.0        3-Jan-18     E   \n",
       "1   Dattatray Laxman Gund          4.0         4.0        3-Jan-18     E   \n",
       "2    Ganesh Ravsaheb Zade         27.0        15.0        3-Jan-18     E   \n",
       "3   Dattatray Laxman Gund          1.0         1.0        4-Jan-18     M   \n",
       "4  Raghunath Bapurao Gund          2.0         2.0        4-Jan-18     M   \n",
       "\n",
       "   Vehicle Code Milk Type Weight Mode Quality Mode  No. of Cans  \\\n",
       "0            29         C        Auto         Auto            2   \n",
       "1            29         C        Auto         Auto            2   \n",
       "2            29         B        Auto         Auto            2   \n",
       "3            29         C        Auto         Auto            2   \n",
       "4            29         C        Auto         Auto            2   \n",
       "\n",
       "   Quantity in KG  Quantity in LTR  FAT  SNF  CLR  Rate  Total Amount  \n",
       "0           48.93             47.5  4.1  8.5  0.0  23.2       1102.00  \n",
       "1           17.80             17.3  4.2  8.1  0.0  22.6        390.98  \n",
       "2           19.80             19.2  5.6  8.9  0.0  33.3        639.36  \n",
       "3           19.00             18.4  3.9  8.2  0.0  22.2        408.48  \n",
       "4           49.00             47.6  4.6  8.5  0.0  24.2       1151.92  "
      ]
     },
     "execution_count": 10,
     "metadata": {},
     "output_type": "execute_result"
    }
   ],
   "source": [
    "df.head()"
   ]
  },
  {
   "cell_type": "code",
   "execution_count": 11,
   "metadata": {},
   "outputs": [
    {
     "data": {
      "text/plain": [
       "array(['3-Jan-18', '4-Jan-18', '14-Jan-18', '15-Jan-18', '16-Jan-18',\n",
       "       '1-Jan-18', '2-Jan-18', '7-Jan-18', '8-Jan-18', '6-Jan-18',\n",
       "       '11-Jan-18', '12-Jan-18', '5-Jan-18', '9-Jan-18', '10-Jan-18',\n",
       "       '21-Jan-18', '22-Jan-18', '25-Jan-18', '19-Jan-18', '20-Jan-18',\n",
       "       '29-Jan-18', '17-Jan-18', '18-Jan-18', '23-Jan-18', '24-Jan-18',\n",
       "       '13-Jan-18', '1-Feb-18', '2-Feb-18', '3-Feb-18', '27-Jan-18',\n",
       "       '28-Jan-18', '6-Feb-18', '26-Jan-18', '30-Jan-18', '31-Jan-18',\n",
       "       '5-Feb-18', '9-Feb-18', '10-Feb-18', '8-Feb-18', '7-Feb-18',\n",
       "       '12-Feb-18', '11-Feb-18', '4-Feb-18', '13-Feb-18', '14-Feb-18',\n",
       "       '16-Feb-18', '15-Feb-18', '17-Feb-18', '22-Feb-18', '18-Feb-18',\n",
       "       '19-Feb-18', '20-Feb-18', '21-Feb-18', '23-Feb-18', '24-Feb-18',\n",
       "       '27-Feb-18', '28-Feb-18', '25-Feb-18', '26-Feb-18', '3-Mar-18',\n",
       "       '1-Mar-18', '2-Mar-18', '4-Mar-18', '8-Mar-18', '7-Mar-18',\n",
       "       '6-Mar-18', '11-Mar-18', '9-Mar-18', '10-Mar-18', '5-Mar-18',\n",
       "       '15-Mar-18', '13-Mar-18', '14-Mar-18', '17-Mar-18', '18-Mar-18',\n",
       "       '16-Mar-18', '12-Mar-18', '21-Mar-18', '24-Mar-18', '22-Mar-18',\n",
       "       '19-Mar-18', '20-Mar-18', '25-Mar-18', '27-Mar-18', '28-Mar-18',\n",
       "       '26-Mar-18', '23-Mar-18', '29-Mar-18', '1-Apr-18', '30-Mar-18',\n",
       "       '31-Mar-18', '3-Apr-18', '4-Apr-18', '2-Apr-18', '7-Apr-18',\n",
       "       '6-Apr-18', '8-Apr-18', '14-Apr-18', '11-Apr-18', '12-Apr-18',\n",
       "       '9-Apr-18', '10-Apr-18', '13-Apr-18', '5-Apr-18', '15-Apr-18',\n",
       "       '18-Apr-18', '19-Apr-18', '23-Apr-18', '24-Apr-18', '21-Apr-18',\n",
       "       '20-Apr-18', '28-Apr-18', '16-Apr-18', '26-Apr-18', '27-Apr-18',\n",
       "       '17-Apr-18', '25-Apr-18', '30-Apr-18', '22-Apr-18', '1-May-18',\n",
       "       '3-May-18', '2-May-18', '29-Apr-18', '5-May-18', '6-May-18',\n",
       "       '4-May-18', '7-May-18', '8-May-18', '11-May-18', '9-May-18',\n",
       "       '10-May-18', '12-May-18', '13-May-18', '15-May-18', '17-May-18',\n",
       "       '14-May-18', '20-May-18', '18-May-18', '21-May-18', '16-May-18',\n",
       "       '24-May-18', '19-May-18', '26-May-18', '22-May-18', '27-May-18',\n",
       "       '23-May-18', '25-May-18', '28-May-18', '29-May-18', '30-May-18',\n",
       "       '1-Jun-18', '4-Jun-18', '5-Jun-18', '6-Jun-18', '31-May-18',\n",
       "       '2-Jun-18', '3-Jun-18', '9-Jun-18', '8-Jun-18', '12-Jun-18',\n",
       "       '13-Jun-18', '10-Jun-18', '11-Jun-18', '7-Jun-18', '18-Jun-18',\n",
       "       '16-Jun-18', '17-Jun-18', '14-Jun-18', '15-Jun-18', '19-Jun-18',\n",
       "       '20-Jun-18', '21-Jun-18', '23-Jun-18', '26-Jun-18', '25-Jun-18',\n",
       "       '27-Jun-18', '24-Jun-18', '28-Jun-18', '22-Jun-18', '30-Jun-18',\n",
       "       '4-Jul-18', '1-Jul-18', '5-Jul-18', '29-Jun-18', '7-Jul-18',\n",
       "       '3-Jul-18', '2-Jul-18', '8-Jul-18', '6-Jul-18', '13-Jul-18',\n",
       "       '11-Jul-18', '15-Jul-18', '9-Jul-18', '10-Jul-18', '14-Jul-18',\n",
       "       '12-Jul-18', '19-Jul-18', '20-Jul-18', '21-Jul-18', '22-Jul-18',\n",
       "       '23-Jul-18', '26-Jul-18', '24-Jul-18', '27-Jul-18', '25-Jul-18',\n",
       "       '29-Jul-18', '28-Jul-18', '30-Jul-18', '31-Jul-18', '1-Aug-18',\n",
       "       '4-Aug-18', '5-Aug-18', '2-Aug-18', '3-Aug-18', '6-Aug-18',\n",
       "       '7-Aug-18', '9-Aug-18', '8-Aug-18', '11-Aug-18', '10-Aug-18',\n",
       "       '12-Aug-18', '14-Aug-18', '13-Aug-18', '15-Aug-18', '16-Aug-18',\n",
       "       '19-Aug-18', '17-Aug-18', '18-Aug-18', '20-Aug-18', '21-Aug-18',\n",
       "       '25-Aug-18', '23-Aug-18', '24-Aug-18', '22-Aug-18', '26-Aug-18',\n",
       "       '27-Aug-18', '28-Aug-18', '31-Aug-18', '1-Sep-18', '30-Aug-18',\n",
       "       '29-Aug-18', '2-Sep-18', '5-Sep-18', '3-Sep-18', '7-Sep-18',\n",
       "       '6-Sep-18', '4-Sep-18', '8-Sep-18', '9-Sep-18', '10-Sep-18',\n",
       "       '11-Sep-18', '12-Sep-18', '13-Sep-18', '16-Sep-18', '17-Sep-18',\n",
       "       '14-Sep-18', '15-Sep-18', '18-Sep-18', '19-Sep-18', '20-Sep-18',\n",
       "       '21-Sep-18', '22-Sep-18', '24-Sep-18', '29-Sep-18', '26-Sep-18',\n",
       "       '27-Sep-18', '23-Sep-18', '25-Sep-18', '1-Oct-18', '30-Sep-18',\n",
       "       '28-Sep-18', '3-Oct-18', '5-Oct-18', '4-Oct-18', '7-Oct-18',\n",
       "       '2-Oct-18', '6-Oct-18', '8-Oct-18', '9-Oct-18', '11-Oct-18',\n",
       "       '10-Oct-18', '13-Oct-18', '12-Oct-18', '18-Oct-18', '21-Oct-18',\n",
       "       '14-Oct-18', '16-Oct-18', '17-Oct-18', '15-Oct-18', '19-Oct-18',\n",
       "       '23-Oct-18', '24-Oct-18', '20-Oct-18', '25-Oct-18', '22-Oct-18',\n",
       "       '26-Oct-18', '27-Oct-18', '31-Oct-18', '28-Oct-18', '3-Nov-18',\n",
       "       '30-Oct-18', '29-Oct-18', '1-Nov-18', '2-Nov-18', '4-Nov-18',\n",
       "       '5-Nov-18', '6-Nov-18', '7-Nov-18', '14-Nov-18', '10-Nov-18',\n",
       "       '8-Nov-18', '11-Nov-18', '12-Nov-18', '13-Nov-18', '15-Nov-18',\n",
       "       '9-Nov-18', '16-Nov-18', '18-Nov-18', '17-Nov-18', '22-Nov-18',\n",
       "       '21-Nov-18', '24-Nov-18', '19-Nov-18', '20-Nov-18', '23-Nov-18',\n",
       "       '26-Nov-18', '27-Nov-18', '25-Nov-18', '28-Nov-18', '30-Nov-18',\n",
       "       '1-Dec-18', '29-Nov-18', '3-Dec-18', '2-Dec-18', '4-Dec-18',\n",
       "       '5-Dec-18', '7-Dec-18', '6-Dec-18', '12-Dec-18', '8-Dec-18',\n",
       "       '9-Dec-18', '10-Dec-18', '15-Dec-18', '11-Dec-18', '13-Dec-18',\n",
       "       '14-Dec-18', '17-Dec-18', '18-Dec-18', '16-Dec-18', '19-Dec-18',\n",
       "       '21-Dec-18', '22-Dec-18', '25-Dec-18', '23-Dec-18', '26-Dec-18',\n",
       "       '28-Dec-18', '20-Dec-18', '31-Dec-18', '27-Dec-18', '30-Dec-18',\n",
       "       '29-Dec-18', '24-Dec-18', '2-Jan-19', '1-Jan-19', '4-Jan-19',\n",
       "       '5-Jan-19', '3-Jan-19', '6-Jan-19', '7-Jan-19', '8-Jan-19',\n",
       "       '9-Jan-19', '10-Jan-19', '15-Jan-19', '11-Jan-19', '12-Jan-19',\n",
       "       '13-Jan-19', '14-Jan-19', '16-Jan-19', '17-Jan-19', '19-Jan-19',\n",
       "       '18-Jan-19', '21-Jan-19', '20-Jan-19', '24-Jan-19', '23-Jan-19',\n",
       "       '22-Jan-19', '25-Jan-19', '26-Jan-19', '27-Jan-19', '28-Jan-19',\n",
       "       '30-Jan-19', '31-Jan-19', '3-Feb-19', '1-Feb-19', '29-Jan-19',\n",
       "       '4-Feb-19', '6-Feb-19', '7-Feb-19', '2-Feb-19', '5-Feb-19',\n",
       "       '10-Feb-19', '8-Feb-19', '9-Feb-19', '13-Feb-19', '12-Feb-19',\n",
       "       '14-Feb-19', '15-Feb-19', '16-Feb-19', '18-Feb-19', '17-Feb-19',\n",
       "       '11-Feb-19', '20-Feb-19', '21-Feb-19', '22-Feb-19', '19-Feb-19',\n",
       "       '24-Feb-19', '25-Feb-19', '23-Feb-19', '26-Feb-19', '28-Feb-19',\n",
       "       '27-Feb-19', '1-Mar-19', '2-Mar-19', '4-Mar-19', '5-Mar-19',\n",
       "       '8-Mar-19', '6-Mar-19', '7-Mar-19', '3-Mar-19', '9-Mar-19',\n",
       "       '10-Mar-19', '12-Mar-19', '11-Mar-19', '14-Mar-19', '15-Mar-19',\n",
       "       '13-Mar-19', '17-Mar-19', '18-Mar-19', '16-Mar-19', '21-Mar-19',\n",
       "       '19-Mar-19', '20-Mar-19', '22-Mar-19', '23-Mar-19', '24-Mar-19'],\n",
       "      dtype=object)"
      ]
     },
     "execution_count": 11,
     "metadata": {},
     "output_type": "execute_result"
    }
   ],
   "source": [
    "df['Collection Date'].unique()"
   ]
  },
  {
   "cell_type": "code",
   "execution_count": 12,
   "metadata": {},
   "outputs": [],
   "source": [
    "import datetime"
   ]
  },
  {
   "cell_type": "code",
   "execution_count": 13,
   "metadata": {},
   "outputs": [],
   "source": [
    "df['Year']=df['Collection Date'].str.split('-').str[2]\n"
   ]
  },
  {
   "cell_type": "code",
   "execution_count": 14,
   "metadata": {},
   "outputs": [
    {
     "data": {
      "text/plain": [
       "0    18\n",
       "1    18\n",
       "2    18\n",
       "3    18\n",
       "4    18\n",
       "Name: Year, dtype: object"
      ]
     },
     "execution_count": 14,
     "metadata": {},
     "output_type": "execute_result"
    }
   ],
   "source": [
    "df['Year'].head()"
   ]
  },
  {
   "cell_type": "code",
   "execution_count": 15,
   "metadata": {},
   "outputs": [],
   "source": [
    "input=df.drop(['Chilling Center Name',\n",
    "       'Vendor Name','Sample No.','Collection Date','Shift','Weight Mode','Milk Type'],axis='columns')"
   ]
  },
  {
   "cell_type": "code",
   "execution_count": null,
   "metadata": {},
   "outputs": [],
   "source": []
  },
  {
   "cell_type": "code",
   "execution_count": 16,
   "metadata": {},
   "outputs": [
    {
     "data": {
      "text/html": [
       "<div>\n",
       "<style scoped>\n",
       "    .dataframe tbody tr th:only-of-type {\n",
       "        vertical-align: middle;\n",
       "    }\n",
       "\n",
       "    .dataframe tbody tr th {\n",
       "        vertical-align: top;\n",
       "    }\n",
       "\n",
       "    .dataframe thead th {\n",
       "        text-align: right;\n",
       "    }\n",
       "</style>\n",
       "<table border=\"1\" class=\"dataframe\">\n",
       "  <thead>\n",
       "    <tr style=\"text-align: right;\">\n",
       "      <th></th>\n",
       "      <th>Chilling Center Code</th>\n",
       "      <th>Vendor Code</th>\n",
       "      <th>Challan No.</th>\n",
       "      <th>Vehicle Code</th>\n",
       "      <th>Quality Mode</th>\n",
       "      <th>No. of Cans</th>\n",
       "      <th>Quantity in KG</th>\n",
       "      <th>Quantity in LTR</th>\n",
       "      <th>FAT</th>\n",
       "      <th>SNF</th>\n",
       "      <th>CLR</th>\n",
       "      <th>Rate</th>\n",
       "      <th>Total Amount</th>\n",
       "      <th>Year</th>\n",
       "    </tr>\n",
       "  </thead>\n",
       "  <tbody>\n",
       "    <tr>\n",
       "      <th>0</th>\n",
       "      <td>8</td>\n",
       "      <td>90089</td>\n",
       "      <td>1.0</td>\n",
       "      <td>29</td>\n",
       "      <td>Auto</td>\n",
       "      <td>2</td>\n",
       "      <td>48.93</td>\n",
       "      <td>47.5</td>\n",
       "      <td>4.1</td>\n",
       "      <td>8.5</td>\n",
       "      <td>0.0</td>\n",
       "      <td>23.2</td>\n",
       "      <td>1102.00</td>\n",
       "      <td>18</td>\n",
       "    </tr>\n",
       "    <tr>\n",
       "      <th>1</th>\n",
       "      <td>8</td>\n",
       "      <td>91301</td>\n",
       "      <td>4.0</td>\n",
       "      <td>29</td>\n",
       "      <td>Auto</td>\n",
       "      <td>2</td>\n",
       "      <td>17.80</td>\n",
       "      <td>17.3</td>\n",
       "      <td>4.2</td>\n",
       "      <td>8.1</td>\n",
       "      <td>0.0</td>\n",
       "      <td>22.6</td>\n",
       "      <td>390.98</td>\n",
       "      <td>18</td>\n",
       "    </tr>\n",
       "    <tr>\n",
       "      <th>2</th>\n",
       "      <td>8</td>\n",
       "      <td>91300</td>\n",
       "      <td>27.0</td>\n",
       "      <td>29</td>\n",
       "      <td>Auto</td>\n",
       "      <td>2</td>\n",
       "      <td>19.80</td>\n",
       "      <td>19.2</td>\n",
       "      <td>5.6</td>\n",
       "      <td>8.9</td>\n",
       "      <td>0.0</td>\n",
       "      <td>33.3</td>\n",
       "      <td>639.36</td>\n",
       "      <td>18</td>\n",
       "    </tr>\n",
       "    <tr>\n",
       "      <th>3</th>\n",
       "      <td>8</td>\n",
       "      <td>91301</td>\n",
       "      <td>1.0</td>\n",
       "      <td>29</td>\n",
       "      <td>Auto</td>\n",
       "      <td>2</td>\n",
       "      <td>19.00</td>\n",
       "      <td>18.4</td>\n",
       "      <td>3.9</td>\n",
       "      <td>8.2</td>\n",
       "      <td>0.0</td>\n",
       "      <td>22.2</td>\n",
       "      <td>408.48</td>\n",
       "      <td>18</td>\n",
       "    </tr>\n",
       "    <tr>\n",
       "      <th>4</th>\n",
       "      <td>8</td>\n",
       "      <td>90089</td>\n",
       "      <td>2.0</td>\n",
       "      <td>29</td>\n",
       "      <td>Auto</td>\n",
       "      <td>2</td>\n",
       "      <td>49.00</td>\n",
       "      <td>47.6</td>\n",
       "      <td>4.6</td>\n",
       "      <td>8.5</td>\n",
       "      <td>0.0</td>\n",
       "      <td>24.2</td>\n",
       "      <td>1151.92</td>\n",
       "      <td>18</td>\n",
       "    </tr>\n",
       "  </tbody>\n",
       "</table>\n",
       "</div>"
      ],
      "text/plain": [
       "   Chilling Center Code  Vendor Code  Challan No.  Vehicle Code Quality Mode  \\\n",
       "0                     8        90089          1.0            29         Auto   \n",
       "1                     8        91301          4.0            29         Auto   \n",
       "2                     8        91300         27.0            29         Auto   \n",
       "3                     8        91301          1.0            29         Auto   \n",
       "4                     8        90089          2.0            29         Auto   \n",
       "\n",
       "   No. of Cans  Quantity in KG  Quantity in LTR  FAT  SNF  CLR  Rate  \\\n",
       "0            2           48.93             47.5  4.1  8.5  0.0  23.2   \n",
       "1            2           17.80             17.3  4.2  8.1  0.0  22.6   \n",
       "2            2           19.80             19.2  5.6  8.9  0.0  33.3   \n",
       "3            2           19.00             18.4  3.9  8.2  0.0  22.2   \n",
       "4            2           49.00             47.6  4.6  8.5  0.0  24.2   \n",
       "\n",
       "   Total Amount Year  \n",
       "0       1102.00   18  \n",
       "1        390.98   18  \n",
       "2        639.36   18  \n",
       "3        408.48   18  \n",
       "4       1151.92   18  "
      ]
     },
     "execution_count": 16,
     "metadata": {},
     "output_type": "execute_result"
    }
   ],
   "source": [
    "input.head()"
   ]
  },
  {
   "cell_type": "code",
   "execution_count": 17,
   "metadata": {},
   "outputs": [
    {
     "data": {
      "text/plain": [
       "Chilling Center Code    0\n",
       "Vendor Code             0\n",
       "Challan No.             1\n",
       "Vehicle Code            0\n",
       "Quality Mode            0\n",
       "No. of Cans             0\n",
       "Quantity in KG          0\n",
       "Quantity in LTR         0\n",
       "FAT                     0\n",
       "SNF                     0\n",
       "CLR                     0\n",
       "Rate                    0\n",
       "Total Amount            0\n",
       "Year                    0\n",
       "dtype: int64"
      ]
     },
     "execution_count": 17,
     "metadata": {},
     "output_type": "execute_result"
    }
   ],
   "source": [
    "input.isnull().sum()"
   ]
  },
  {
   "cell_type": "code",
   "execution_count": 18,
   "metadata": {},
   "outputs": [],
   "source": [
    "input=input.fillna({'Challan No.':1\n",
    "                 })"
   ]
  },
  {
   "cell_type": "code",
   "execution_count": 19,
   "metadata": {},
   "outputs": [],
   "source": [
    "input = input.fillna(method=\"bfill\")"
   ]
  },
  {
   "cell_type": "code",
   "execution_count": null,
   "metadata": {},
   "outputs": [],
   "source": []
  },
  {
   "cell_type": "code",
   "execution_count": 20,
   "metadata": {},
   "outputs": [],
   "source": [
    "input.rename(columns={'Quality Mode':'QualityMode'},inplace=True)"
   ]
  },
  {
   "cell_type": "code",
   "execution_count": 21,
   "metadata": {},
   "outputs": [],
   "source": [
    "input.rename(columns={'Quality Mode':'QualityMode'},inplace=True)"
   ]
  },
  {
   "cell_type": "code",
   "execution_count": 22,
   "metadata": {},
   "outputs": [],
   "source": [
    "#input.QualityMode = input.QualityMode.map({'Auto':1,'Manual':0})"
   ]
  },
  {
   "cell_type": "code",
   "execution_count": 23,
   "metadata": {},
   "outputs": [],
   "source": [
    "#input.QualityMode=input.QualityMode.map({'Auto':'1',\"Manual\":'0'})"
   ]
  },
  {
   "cell_type": "code",
   "execution_count": null,
   "metadata": {},
   "outputs": [],
   "source": []
  },
  {
   "cell_type": "code",
   "execution_count": 24,
   "metadata": {},
   "outputs": [
    {
     "data": {
      "text/html": [
       "<div>\n",
       "<style scoped>\n",
       "    .dataframe tbody tr th:only-of-type {\n",
       "        vertical-align: middle;\n",
       "    }\n",
       "\n",
       "    .dataframe tbody tr th {\n",
       "        vertical-align: top;\n",
       "    }\n",
       "\n",
       "    .dataframe thead th {\n",
       "        text-align: right;\n",
       "    }\n",
       "</style>\n",
       "<table border=\"1\" class=\"dataframe\">\n",
       "  <thead>\n",
       "    <tr style=\"text-align: right;\">\n",
       "      <th></th>\n",
       "      <th>Chilling Center Code</th>\n",
       "      <th>Vendor Code</th>\n",
       "      <th>Challan No.</th>\n",
       "      <th>Vehicle Code</th>\n",
       "      <th>QualityMode</th>\n",
       "      <th>No. of Cans</th>\n",
       "      <th>Quantity in KG</th>\n",
       "      <th>Quantity in LTR</th>\n",
       "      <th>FAT</th>\n",
       "      <th>SNF</th>\n",
       "      <th>CLR</th>\n",
       "      <th>Rate</th>\n",
       "      <th>Total Amount</th>\n",
       "      <th>Year</th>\n",
       "    </tr>\n",
       "  </thead>\n",
       "  <tbody>\n",
       "    <tr>\n",
       "      <th>0</th>\n",
       "      <td>8</td>\n",
       "      <td>90089</td>\n",
       "      <td>1.0</td>\n",
       "      <td>29</td>\n",
       "      <td>Auto</td>\n",
       "      <td>2</td>\n",
       "      <td>48.93</td>\n",
       "      <td>47.5</td>\n",
       "      <td>4.1</td>\n",
       "      <td>8.5</td>\n",
       "      <td>0.0</td>\n",
       "      <td>23.2</td>\n",
       "      <td>1102.00</td>\n",
       "      <td>18</td>\n",
       "    </tr>\n",
       "    <tr>\n",
       "      <th>1</th>\n",
       "      <td>8</td>\n",
       "      <td>91301</td>\n",
       "      <td>4.0</td>\n",
       "      <td>29</td>\n",
       "      <td>Auto</td>\n",
       "      <td>2</td>\n",
       "      <td>17.80</td>\n",
       "      <td>17.3</td>\n",
       "      <td>4.2</td>\n",
       "      <td>8.1</td>\n",
       "      <td>0.0</td>\n",
       "      <td>22.6</td>\n",
       "      <td>390.98</td>\n",
       "      <td>18</td>\n",
       "    </tr>\n",
       "    <tr>\n",
       "      <th>2</th>\n",
       "      <td>8</td>\n",
       "      <td>91300</td>\n",
       "      <td>27.0</td>\n",
       "      <td>29</td>\n",
       "      <td>Auto</td>\n",
       "      <td>2</td>\n",
       "      <td>19.80</td>\n",
       "      <td>19.2</td>\n",
       "      <td>5.6</td>\n",
       "      <td>8.9</td>\n",
       "      <td>0.0</td>\n",
       "      <td>33.3</td>\n",
       "      <td>639.36</td>\n",
       "      <td>18</td>\n",
       "    </tr>\n",
       "    <tr>\n",
       "      <th>3</th>\n",
       "      <td>8</td>\n",
       "      <td>91301</td>\n",
       "      <td>1.0</td>\n",
       "      <td>29</td>\n",
       "      <td>Auto</td>\n",
       "      <td>2</td>\n",
       "      <td>19.00</td>\n",
       "      <td>18.4</td>\n",
       "      <td>3.9</td>\n",
       "      <td>8.2</td>\n",
       "      <td>0.0</td>\n",
       "      <td>22.2</td>\n",
       "      <td>408.48</td>\n",
       "      <td>18</td>\n",
       "    </tr>\n",
       "    <tr>\n",
       "      <th>4</th>\n",
       "      <td>8</td>\n",
       "      <td>90089</td>\n",
       "      <td>2.0</td>\n",
       "      <td>29</td>\n",
       "      <td>Auto</td>\n",
       "      <td>2</td>\n",
       "      <td>49.00</td>\n",
       "      <td>47.6</td>\n",
       "      <td>4.6</td>\n",
       "      <td>8.5</td>\n",
       "      <td>0.0</td>\n",
       "      <td>24.2</td>\n",
       "      <td>1151.92</td>\n",
       "      <td>18</td>\n",
       "    </tr>\n",
       "  </tbody>\n",
       "</table>\n",
       "</div>"
      ],
      "text/plain": [
       "   Chilling Center Code  Vendor Code  Challan No.  Vehicle Code QualityMode  \\\n",
       "0                     8        90089          1.0            29        Auto   \n",
       "1                     8        91301          4.0            29        Auto   \n",
       "2                     8        91300         27.0            29        Auto   \n",
       "3                     8        91301          1.0            29        Auto   \n",
       "4                     8        90089          2.0            29        Auto   \n",
       "\n",
       "   No. of Cans  Quantity in KG  Quantity in LTR  FAT  SNF  CLR  Rate  \\\n",
       "0            2           48.93             47.5  4.1  8.5  0.0  23.2   \n",
       "1            2           17.80             17.3  4.2  8.1  0.0  22.6   \n",
       "2            2           19.80             19.2  5.6  8.9  0.0  33.3   \n",
       "3            2           19.00             18.4  3.9  8.2  0.0  22.2   \n",
       "4            2           49.00             47.6  4.6  8.5  0.0  24.2   \n",
       "\n",
       "   Total Amount Year  \n",
       "0       1102.00   18  \n",
       "1        390.98   18  \n",
       "2        639.36   18  \n",
       "3        408.48   18  \n",
       "4       1151.92   18  "
      ]
     },
     "execution_count": 24,
     "metadata": {},
     "output_type": "execute_result"
    }
   ],
   "source": [
    "input.head()"
   ]
  },
  {
   "cell_type": "code",
   "execution_count": 25,
   "metadata": {},
   "outputs": [
    {
     "data": {
      "text/plain": [
       "Chilling Center Code      int64\n",
       "Vendor Code               int64\n",
       "Challan No.             float64\n",
       "Vehicle Code              int64\n",
       "QualityMode              object\n",
       "No. of Cans               int64\n",
       "Quantity in KG          float64\n",
       "Quantity in LTR         float64\n",
       "FAT                     float64\n",
       "SNF                     float64\n",
       "CLR                     float64\n",
       "Rate                    float64\n",
       "Total Amount            float64\n",
       "Year                     object\n",
       "dtype: object"
      ]
     },
     "execution_count": 25,
     "metadata": {},
     "output_type": "execute_result"
    }
   ],
   "source": [
    "input.dtypes"
   ]
  },
  {
   "cell_type": "code",
   "execution_count": 26,
   "metadata": {},
   "outputs": [],
   "source": [
    "input['Year']=input['Year'].astype(int)"
   ]
  },
  {
   "cell_type": "code",
   "execution_count": 27,
   "metadata": {},
   "outputs": [],
   "source": [
    "input=pd.get_dummies(input,drop_first=True)"
   ]
  },
  {
   "cell_type": "code",
   "execution_count": 28,
   "metadata": {},
   "outputs": [
    {
     "data": {
      "text/html": [
       "<div>\n",
       "<style scoped>\n",
       "    .dataframe tbody tr th:only-of-type {\n",
       "        vertical-align: middle;\n",
       "    }\n",
       "\n",
       "    .dataframe tbody tr th {\n",
       "        vertical-align: top;\n",
       "    }\n",
       "\n",
       "    .dataframe thead th {\n",
       "        text-align: right;\n",
       "    }\n",
       "</style>\n",
       "<table border=\"1\" class=\"dataframe\">\n",
       "  <thead>\n",
       "    <tr style=\"text-align: right;\">\n",
       "      <th></th>\n",
       "      <th>Chilling Center Code</th>\n",
       "      <th>Vendor Code</th>\n",
       "      <th>Challan No.</th>\n",
       "      <th>Vehicle Code</th>\n",
       "      <th>No. of Cans</th>\n",
       "      <th>Quantity in KG</th>\n",
       "      <th>Quantity in LTR</th>\n",
       "      <th>FAT</th>\n",
       "      <th>SNF</th>\n",
       "      <th>CLR</th>\n",
       "      <th>Rate</th>\n",
       "      <th>Total Amount</th>\n",
       "      <th>Year</th>\n",
       "      <th>QualityMode_Manual</th>\n",
       "    </tr>\n",
       "  </thead>\n",
       "  <tbody>\n",
       "    <tr>\n",
       "      <th>0</th>\n",
       "      <td>8</td>\n",
       "      <td>90089</td>\n",
       "      <td>1.0</td>\n",
       "      <td>29</td>\n",
       "      <td>2</td>\n",
       "      <td>48.93</td>\n",
       "      <td>47.5</td>\n",
       "      <td>4.1</td>\n",
       "      <td>8.5</td>\n",
       "      <td>0.0</td>\n",
       "      <td>23.2</td>\n",
       "      <td>1102.00</td>\n",
       "      <td>18</td>\n",
       "      <td>0</td>\n",
       "    </tr>\n",
       "    <tr>\n",
       "      <th>1</th>\n",
       "      <td>8</td>\n",
       "      <td>91301</td>\n",
       "      <td>4.0</td>\n",
       "      <td>29</td>\n",
       "      <td>2</td>\n",
       "      <td>17.80</td>\n",
       "      <td>17.3</td>\n",
       "      <td>4.2</td>\n",
       "      <td>8.1</td>\n",
       "      <td>0.0</td>\n",
       "      <td>22.6</td>\n",
       "      <td>390.98</td>\n",
       "      <td>18</td>\n",
       "      <td>0</td>\n",
       "    </tr>\n",
       "    <tr>\n",
       "      <th>2</th>\n",
       "      <td>8</td>\n",
       "      <td>91300</td>\n",
       "      <td>27.0</td>\n",
       "      <td>29</td>\n",
       "      <td>2</td>\n",
       "      <td>19.80</td>\n",
       "      <td>19.2</td>\n",
       "      <td>5.6</td>\n",
       "      <td>8.9</td>\n",
       "      <td>0.0</td>\n",
       "      <td>33.3</td>\n",
       "      <td>639.36</td>\n",
       "      <td>18</td>\n",
       "      <td>0</td>\n",
       "    </tr>\n",
       "    <tr>\n",
       "      <th>3</th>\n",
       "      <td>8</td>\n",
       "      <td>91301</td>\n",
       "      <td>1.0</td>\n",
       "      <td>29</td>\n",
       "      <td>2</td>\n",
       "      <td>19.00</td>\n",
       "      <td>18.4</td>\n",
       "      <td>3.9</td>\n",
       "      <td>8.2</td>\n",
       "      <td>0.0</td>\n",
       "      <td>22.2</td>\n",
       "      <td>408.48</td>\n",
       "      <td>18</td>\n",
       "      <td>0</td>\n",
       "    </tr>\n",
       "    <tr>\n",
       "      <th>4</th>\n",
       "      <td>8</td>\n",
       "      <td>90089</td>\n",
       "      <td>2.0</td>\n",
       "      <td>29</td>\n",
       "      <td>2</td>\n",
       "      <td>49.00</td>\n",
       "      <td>47.6</td>\n",
       "      <td>4.6</td>\n",
       "      <td>8.5</td>\n",
       "      <td>0.0</td>\n",
       "      <td>24.2</td>\n",
       "      <td>1151.92</td>\n",
       "      <td>18</td>\n",
       "      <td>0</td>\n",
       "    </tr>\n",
       "  </tbody>\n",
       "</table>\n",
       "</div>"
      ],
      "text/plain": [
       "   Chilling Center Code  Vendor Code  Challan No.  Vehicle Code  No. of Cans  \\\n",
       "0                     8        90089          1.0            29            2   \n",
       "1                     8        91301          4.0            29            2   \n",
       "2                     8        91300         27.0            29            2   \n",
       "3                     8        91301          1.0            29            2   \n",
       "4                     8        90089          2.0            29            2   \n",
       "\n",
       "   Quantity in KG  Quantity in LTR  FAT  SNF  CLR  Rate  Total Amount  Year  \\\n",
       "0           48.93             47.5  4.1  8.5  0.0  23.2       1102.00    18   \n",
       "1           17.80             17.3  4.2  8.1  0.0  22.6        390.98    18   \n",
       "2           19.80             19.2  5.6  8.9  0.0  33.3        639.36    18   \n",
       "3           19.00             18.4  3.9  8.2  0.0  22.2        408.48    18   \n",
       "4           49.00             47.6  4.6  8.5  0.0  24.2       1151.92    18   \n",
       "\n",
       "   QualityMode_Manual  \n",
       "0                   0  \n",
       "1                   0  \n",
       "2                   0  \n",
       "3                   0  \n",
       "4                   0  "
      ]
     },
     "execution_count": 28,
     "metadata": {},
     "output_type": "execute_result"
    }
   ],
   "source": [
    "input.head()"
   ]
  },
  {
   "cell_type": "code",
   "execution_count": 29,
   "metadata": {},
   "outputs": [],
   "source": [
    "X=input.drop(['Total Amount'],axis=1)"
   ]
  },
  {
   "cell_type": "code",
   "execution_count": 30,
   "metadata": {},
   "outputs": [],
   "source": [
    "#X=input.drop('QualityMode',axis=1)"
   ]
  },
  {
   "cell_type": "code",
   "execution_count": 31,
   "metadata": {},
   "outputs": [
    {
     "data": {
      "text/html": [
       "<div>\n",
       "<style scoped>\n",
       "    .dataframe tbody tr th:only-of-type {\n",
       "        vertical-align: middle;\n",
       "    }\n",
       "\n",
       "    .dataframe tbody tr th {\n",
       "        vertical-align: top;\n",
       "    }\n",
       "\n",
       "    .dataframe thead th {\n",
       "        text-align: right;\n",
       "    }\n",
       "</style>\n",
       "<table border=\"1\" class=\"dataframe\">\n",
       "  <thead>\n",
       "    <tr style=\"text-align: right;\">\n",
       "      <th></th>\n",
       "      <th>Chilling Center Code</th>\n",
       "      <th>Vendor Code</th>\n",
       "      <th>Challan No.</th>\n",
       "      <th>Vehicle Code</th>\n",
       "      <th>No. of Cans</th>\n",
       "      <th>Quantity in KG</th>\n",
       "      <th>Quantity in LTR</th>\n",
       "      <th>FAT</th>\n",
       "      <th>SNF</th>\n",
       "      <th>CLR</th>\n",
       "      <th>Rate</th>\n",
       "      <th>Year</th>\n",
       "      <th>QualityMode_Manual</th>\n",
       "    </tr>\n",
       "  </thead>\n",
       "  <tbody>\n",
       "    <tr>\n",
       "      <th>0</th>\n",
       "      <td>8</td>\n",
       "      <td>90089</td>\n",
       "      <td>1.0</td>\n",
       "      <td>29</td>\n",
       "      <td>2</td>\n",
       "      <td>48.93</td>\n",
       "      <td>47.5</td>\n",
       "      <td>4.1</td>\n",
       "      <td>8.5</td>\n",
       "      <td>0.0</td>\n",
       "      <td>23.2</td>\n",
       "      <td>18</td>\n",
       "      <td>0</td>\n",
       "    </tr>\n",
       "    <tr>\n",
       "      <th>1</th>\n",
       "      <td>8</td>\n",
       "      <td>91301</td>\n",
       "      <td>4.0</td>\n",
       "      <td>29</td>\n",
       "      <td>2</td>\n",
       "      <td>17.80</td>\n",
       "      <td>17.3</td>\n",
       "      <td>4.2</td>\n",
       "      <td>8.1</td>\n",
       "      <td>0.0</td>\n",
       "      <td>22.6</td>\n",
       "      <td>18</td>\n",
       "      <td>0</td>\n",
       "    </tr>\n",
       "    <tr>\n",
       "      <th>2</th>\n",
       "      <td>8</td>\n",
       "      <td>91300</td>\n",
       "      <td>27.0</td>\n",
       "      <td>29</td>\n",
       "      <td>2</td>\n",
       "      <td>19.80</td>\n",
       "      <td>19.2</td>\n",
       "      <td>5.6</td>\n",
       "      <td>8.9</td>\n",
       "      <td>0.0</td>\n",
       "      <td>33.3</td>\n",
       "      <td>18</td>\n",
       "      <td>0</td>\n",
       "    </tr>\n",
       "    <tr>\n",
       "      <th>3</th>\n",
       "      <td>8</td>\n",
       "      <td>91301</td>\n",
       "      <td>1.0</td>\n",
       "      <td>29</td>\n",
       "      <td>2</td>\n",
       "      <td>19.00</td>\n",
       "      <td>18.4</td>\n",
       "      <td>3.9</td>\n",
       "      <td>8.2</td>\n",
       "      <td>0.0</td>\n",
       "      <td>22.2</td>\n",
       "      <td>18</td>\n",
       "      <td>0</td>\n",
       "    </tr>\n",
       "    <tr>\n",
       "      <th>4</th>\n",
       "      <td>8</td>\n",
       "      <td>90089</td>\n",
       "      <td>2.0</td>\n",
       "      <td>29</td>\n",
       "      <td>2</td>\n",
       "      <td>49.00</td>\n",
       "      <td>47.6</td>\n",
       "      <td>4.6</td>\n",
       "      <td>8.5</td>\n",
       "      <td>0.0</td>\n",
       "      <td>24.2</td>\n",
       "      <td>18</td>\n",
       "      <td>0</td>\n",
       "    </tr>\n",
       "  </tbody>\n",
       "</table>\n",
       "</div>"
      ],
      "text/plain": [
       "   Chilling Center Code  Vendor Code  Challan No.  Vehicle Code  No. of Cans  \\\n",
       "0                     8        90089          1.0            29            2   \n",
       "1                     8        91301          4.0            29            2   \n",
       "2                     8        91300         27.0            29            2   \n",
       "3                     8        91301          1.0            29            2   \n",
       "4                     8        90089          2.0            29            2   \n",
       "\n",
       "   Quantity in KG  Quantity in LTR  FAT  SNF  CLR  Rate  Year  \\\n",
       "0           48.93             47.5  4.1  8.5  0.0  23.2    18   \n",
       "1           17.80             17.3  4.2  8.1  0.0  22.6    18   \n",
       "2           19.80             19.2  5.6  8.9  0.0  33.3    18   \n",
       "3           19.00             18.4  3.9  8.2  0.0  22.2    18   \n",
       "4           49.00             47.6  4.6  8.5  0.0  24.2    18   \n",
       "\n",
       "   QualityMode_Manual  \n",
       "0                   0  \n",
       "1                   0  \n",
       "2                   0  \n",
       "3                   0  \n",
       "4                   0  "
      ]
     },
     "execution_count": 31,
     "metadata": {},
     "output_type": "execute_result"
    }
   ],
   "source": [
    "X.head()"
   ]
  },
  {
   "cell_type": "code",
   "execution_count": 32,
   "metadata": {},
   "outputs": [],
   "source": [
    "X=X.rename(columns={'Quantity in KG':'QuantityKG'})"
   ]
  },
  {
   "cell_type": "code",
   "execution_count": 33,
   "metadata": {},
   "outputs": [],
   "source": [
    "X=X.rename(columns={'No. of Cans':'NoofCans'})"
   ]
  },
  {
   "cell_type": "code",
   "execution_count": 64,
   "metadata": {},
   "outputs": [],
   "source": [
    "X=X.rename(columns={'Vendor Code':'vendorcode'})"
   ]
  },
  {
   "cell_type": "code",
   "execution_count": 65,
   "metadata": {},
   "outputs": [
    {
     "data": {
      "text/html": [
       "<div>\n",
       "<style scoped>\n",
       "    .dataframe tbody tr th:only-of-type {\n",
       "        vertical-align: middle;\n",
       "    }\n",
       "\n",
       "    .dataframe tbody tr th {\n",
       "        vertical-align: top;\n",
       "    }\n",
       "\n",
       "    .dataframe thead th {\n",
       "        text-align: right;\n",
       "    }\n",
       "</style>\n",
       "<table border=\"1\" class=\"dataframe\">\n",
       "  <thead>\n",
       "    <tr style=\"text-align: right;\">\n",
       "      <th></th>\n",
       "      <th>Chilling Center Code</th>\n",
       "      <th>vendorcode</th>\n",
       "      <th>Challan No.</th>\n",
       "      <th>Vehicle Code</th>\n",
       "      <th>NoofCans</th>\n",
       "      <th>QuantityKG</th>\n",
       "      <th>Quantity in LTR</th>\n",
       "      <th>FAT</th>\n",
       "      <th>SNF</th>\n",
       "      <th>CLR</th>\n",
       "      <th>Rate</th>\n",
       "      <th>Year</th>\n",
       "      <th>QualityMode_Manual</th>\n",
       "    </tr>\n",
       "  </thead>\n",
       "  <tbody>\n",
       "    <tr>\n",
       "      <th>0</th>\n",
       "      <td>8</td>\n",
       "      <td>90089</td>\n",
       "      <td>1.0</td>\n",
       "      <td>29</td>\n",
       "      <td>2</td>\n",
       "      <td>48.93</td>\n",
       "      <td>47.5</td>\n",
       "      <td>4.1</td>\n",
       "      <td>8.5</td>\n",
       "      <td>0.0</td>\n",
       "      <td>23.2</td>\n",
       "      <td>18</td>\n",
       "      <td>0</td>\n",
       "    </tr>\n",
       "    <tr>\n",
       "      <th>1</th>\n",
       "      <td>8</td>\n",
       "      <td>91301</td>\n",
       "      <td>4.0</td>\n",
       "      <td>29</td>\n",
       "      <td>2</td>\n",
       "      <td>17.80</td>\n",
       "      <td>17.3</td>\n",
       "      <td>4.2</td>\n",
       "      <td>8.1</td>\n",
       "      <td>0.0</td>\n",
       "      <td>22.6</td>\n",
       "      <td>18</td>\n",
       "      <td>0</td>\n",
       "    </tr>\n",
       "    <tr>\n",
       "      <th>2</th>\n",
       "      <td>8</td>\n",
       "      <td>91300</td>\n",
       "      <td>27.0</td>\n",
       "      <td>29</td>\n",
       "      <td>2</td>\n",
       "      <td>19.80</td>\n",
       "      <td>19.2</td>\n",
       "      <td>5.6</td>\n",
       "      <td>8.9</td>\n",
       "      <td>0.0</td>\n",
       "      <td>33.3</td>\n",
       "      <td>18</td>\n",
       "      <td>0</td>\n",
       "    </tr>\n",
       "    <tr>\n",
       "      <th>3</th>\n",
       "      <td>8</td>\n",
       "      <td>91301</td>\n",
       "      <td>1.0</td>\n",
       "      <td>29</td>\n",
       "      <td>2</td>\n",
       "      <td>19.00</td>\n",
       "      <td>18.4</td>\n",
       "      <td>3.9</td>\n",
       "      <td>8.2</td>\n",
       "      <td>0.0</td>\n",
       "      <td>22.2</td>\n",
       "      <td>18</td>\n",
       "      <td>0</td>\n",
       "    </tr>\n",
       "    <tr>\n",
       "      <th>4</th>\n",
       "      <td>8</td>\n",
       "      <td>90089</td>\n",
       "      <td>2.0</td>\n",
       "      <td>29</td>\n",
       "      <td>2</td>\n",
       "      <td>49.00</td>\n",
       "      <td>47.6</td>\n",
       "      <td>4.6</td>\n",
       "      <td>8.5</td>\n",
       "      <td>0.0</td>\n",
       "      <td>24.2</td>\n",
       "      <td>18</td>\n",
       "      <td>0</td>\n",
       "    </tr>\n",
       "  </tbody>\n",
       "</table>\n",
       "</div>"
      ],
      "text/plain": [
       "   Chilling Center Code  vendorcode  Challan No.  Vehicle Code  NoofCans  \\\n",
       "0                     8       90089          1.0            29         2   \n",
       "1                     8       91301          4.0            29         2   \n",
       "2                     8       91300         27.0            29         2   \n",
       "3                     8       91301          1.0            29         2   \n",
       "4                     8       90089          2.0            29         2   \n",
       "\n",
       "   QuantityKG  Quantity in LTR  FAT  SNF  CLR  Rate  Year  QualityMode_Manual  \n",
       "0       48.93             47.5  4.1  8.5  0.0  23.2    18                   0  \n",
       "1       17.80             17.3  4.2  8.1  0.0  22.6    18                   0  \n",
       "2       19.80             19.2  5.6  8.9  0.0  33.3    18                   0  \n",
       "3       19.00             18.4  3.9  8.2  0.0  22.2    18                   0  \n",
       "4       49.00             47.6  4.6  8.5  0.0  24.2    18                   0  "
      ]
     },
     "execution_count": 65,
     "metadata": {},
     "output_type": "execute_result"
    }
   ],
   "source": [
    "X.head()"
   ]
  },
  {
   "cell_type": "code",
   "execution_count": 66,
   "metadata": {},
   "outputs": [],
   "source": [
    "y=input['Total Amount']"
   ]
  },
  {
   "cell_type": "code",
   "execution_count": 67,
   "metadata": {},
   "outputs": [
    {
     "data": {
      "text/plain": [
       "0    1102.00\n",
       "1     390.98\n",
       "2     639.36\n",
       "3     408.48\n",
       "4    1151.92\n",
       "Name: Total Amount, dtype: float64"
      ]
     },
     "execution_count": 67,
     "metadata": {},
     "output_type": "execute_result"
    }
   ],
   "source": [
    "y.head()"
   ]
  },
  {
   "cell_type": "code",
   "execution_count": 68,
   "metadata": {},
   "outputs": [
    {
     "data": {
      "text/plain": [
       "ExtraTreesRegressor(bootstrap=False, criterion='mse', max_depth=None,\n",
       "          max_features='auto', max_leaf_nodes=None,\n",
       "          min_impurity_decrease=0.0, min_impurity_split=None,\n",
       "          min_samples_leaf=1, min_samples_split=2,\n",
       "          min_weight_fraction_leaf=0.0, n_estimators=10, n_jobs=1,\n",
       "          oob_score=False, random_state=None, verbose=0, warm_start=False)"
      ]
     },
     "execution_count": 68,
     "metadata": {},
     "output_type": "execute_result"
    }
   ],
   "source": [
    "### Feature Importance\n",
    "\n",
    "from sklearn.ensemble import ExtraTreesRegressor\n",
    "import matplotlib.pyplot as plt\n",
    "model = ExtraTreesRegressor()\n",
    "model.fit(X,y)"
   ]
  },
  {
   "cell_type": "code",
   "execution_count": 69,
   "metadata": {},
   "outputs": [
    {
     "name": "stdout",
     "output_type": "stream",
     "text": [
      "[0.00000000e+00 1.08884695e-03 8.19006275e-05 2.09612084e-03\n",
      " 1.17588214e-01 3.59635254e-01 5.05472805e-01 5.44018329e-04\n",
      " 1.59270972e-03 2.80352167e-04 1.15178386e-02 8.89522927e-05\n",
      " 1.29884174e-05]\n"
     ]
    }
   ],
   "source": [
    "print(model.feature_importances_)"
   ]
  },
  {
   "cell_type": "code",
   "execution_count": 70,
   "metadata": {},
   "outputs": [
    {
     "data": {
      "image/png": "[encoded data removed]",
      "text/plain": [
       "<Figure size 432x288 with 1 Axes>"
      ]
     },
     "metadata": {},
     "output_type": "display_data"
    }
   ],
   "source": [
    "#plot graph of feature importances for better visualization\n",
    "feat_importances = pd.Series(model.feature_importances_, index=X.columns)\n",
    "feat_importances.nlargest(5).plot(kind='barh')\n",
    "plt.show()"
   ]
  },
  {
   "cell_type": "code",
   "execution_count": null,
   "metadata": {},
   "outputs": [],
   "source": []
  },
  {
   "cell_type": "code",
   "execution_count": 71,
   "metadata": {},
   "outputs": [],
   "source": [
    "from sklearn.model_selection import train_test_split\n",
    "X_train, X_test, y_train, y_test = train_test_split(X, y, test_size=0.3, random_state=0)"
   ]
  },
  {
   "cell_type": "code",
   "execution_count": null,
   "metadata": {},
   "outputs": [],
   "source": []
  },
  {
   "cell_type": "code",
   "execution_count": 72,
   "metadata": {},
   "outputs": [
    {
     "data": {
      "text/plain": [
       "(7664, 13)"
      ]
     },
     "execution_count": 72,
     "metadata": {},
     "output_type": "execute_result"
    }
   ],
   "source": [
    "X_train.shape"
   ]
  },
  {
   "cell_type": "code",
   "execution_count": 73,
   "metadata": {},
   "outputs": [
    {
     "data": {
      "text/plain": [
       "(3285, 13)"
      ]
     },
     "execution_count": 73,
     "metadata": {},
     "output_type": "execute_result"
    }
   ],
   "source": [
    "X_test.shape"
   ]
  },
  {
   "cell_type": "code",
   "execution_count": 74,
   "metadata": {},
   "outputs": [],
   "source": [
    "from sklearn.ensemble import RandomForestRegressor"
   ]
  },
  {
   "cell_type": "code",
   "execution_count": 75,
   "metadata": {},
   "outputs": [],
   "source": [
    "regressor=RandomForestRegressor()"
   ]
  },
  {
   "cell_type": "code",
   "execution_count": 76,
   "metadata": {},
   "outputs": [
    {
     "data": {
      "text/plain": [
       "ExtraTreesRegressor(bootstrap=False, criterion='mse', max_depth=None,\n",
       "          max_features='auto', max_leaf_nodes=None,\n",
       "          min_impurity_decrease=0.0, min_impurity_split=None,\n",
       "          min_samples_leaf=1, min_samples_split=2,\n",
       "          min_weight_fraction_leaf=0.0, n_estimators=10, n_jobs=1,\n",
       "          oob_score=False, random_state=None, verbose=0, warm_start=False)"
      ]
     },
     "execution_count": 76,
     "metadata": {},
     "output_type": "execute_result"
    }
   ],
   "source": [
    "model.fit(X_train,y_train)"
   ]
  },
  {
   "cell_type": "code",
   "execution_count": 77,
   "metadata": {},
   "outputs": [],
   "source": [
    "from sklearn.model_selection import RandomizedSearchCV"
   ]
  },
  {
   "cell_type": "code",
   "execution_count": 78,
   "metadata": {},
   "outputs": [
    {
     "name": "stdout",
     "output_type": "stream",
     "text": [
      "[100, 118, 136, 154, 172, 190, 209, 227, 245, 263, 281, 300]\n"
     ]
    }
   ],
   "source": [
    "n_estimators = [int(x) for x in np.linspace(start = 100, stop = 300, num = 12)]\n",
    "print(n_estimators)"
   ]
  },
  {
   "cell_type": "code",
   "execution_count": 79,
   "metadata": {},
   "outputs": [],
   "source": [
    "from sklearn.model_selection import RandomizedSearchCV"
   ]
  },
  {
   "cell_type": "code",
   "execution_count": 80,
   "metadata": {},
   "outputs": [
    {
     "data": {
      "text/plain": [
       "Chilling Center Code    0\n",
       "vendorcode              0\n",
       "Challan No.             0\n",
       "Vehicle Code            0\n",
       "NoofCans                0\n",
       "QuantityKG              0\n",
       "Quantity in LTR         0\n",
       "FAT                     0\n",
       "SNF                     0\n",
       "CLR                     0\n",
       "Rate                    0\n",
       "Year                    0\n",
       "QualityMode_Manual      0\n",
       "dtype: int64"
      ]
     },
     "execution_count": 80,
     "metadata": {},
     "output_type": "execute_result"
    }
   ],
   "source": [
    "X.isnull().sum()"
   ]
  },
  {
   "cell_type": "code",
   "execution_count": 81,
   "metadata": {},
   "outputs": [],
   "source": [
    " #Randomized Search CV\n",
    "\n",
    "# Number of trees in random forest\n",
    "n_estimators = [int(x) for x in np.linspace(start = 100, stop = 200, num = 12)]\n",
    "# Number of features to consider at every split\n",
    "max_features = ['auto', 'sqrt']\n",
    "# Maximum number of levels in tree\n",
    "max_depth = [int(x) for x in np.linspace(1, 5, num = 6)]\n",
    "# max_depth.append(None)\n",
    "# Minimum number of samples required to split a node\n",
    "min_samples_split = [2, 5, 10, 15, 100]\n",
    "# Minimum number of samples required at each leaf node\n",
    "min_samples_leaf = [1, 2, 5, 10]\n"
   ]
  },
  {
   "cell_type": "code",
   "execution_count": 82,
   "metadata": {},
   "outputs": [
    {
     "name": "stdout",
     "output_type": "stream",
     "text": [
      "{'n_estimators': [100, 109, 118, 127, 136, 145, 154, 163, 172, 181, 190, 200], 'max_features': ['auto', 'sqrt'], 'max_depth': [1, 1, 2, 3, 4, 5], 'min_samples_split': [2, 5, 10, 15, 100], 'min_samples_leaf': [1, 2, 5, 10]}\n"
     ]
    }
   ],
   "source": [
    "# Create the random grid\n",
    "random_grid = {'n_estimators': n_estimators,\n",
    "               'max_features': max_features,\n",
    "               'max_depth': max_depth,\n",
    "               'min_samples_split': min_samples_split,\n",
    "               'min_samples_leaf': min_samples_leaf}\n",
    "\n",
    "print(random_grid)"
   ]
  },
  {
   "cell_type": "code",
   "execution_count": 83,
   "metadata": {},
   "outputs": [],
   "source": [
    "# Use the random grid to search for best hyperparameters\n",
    "# First create the base model to tune\n",
    "rf = RandomForestRegressor()"
   ]
  },
  {
   "cell_type": "code",
   "execution_count": 84,
   "metadata": {},
   "outputs": [],
   "source": [
    "# Random search of parameters, using 3 fold cross validation, \n",
    "# search across 100 different combinations\n",
    "rf_random = RandomizedSearchCV(estimator = rf, param_distributions = random_grid,scoring='neg_mean_squared_error', n_iter = 10, cv = 5, verbose=2, random_state=42, n_jobs = 1)"
   ]
  },
  {
   "cell_type": "code",
   "execution_count": 85,
   "metadata": {},
   "outputs": [
    {
     "name": "stdout",
     "output_type": "stream",
     "text": [
      "Fitting 5 folds for each of 10 candidates, totalling 50 fits\n",
      "[CV] n_estimators=172, min_samples_split=5, min_samples_leaf=5, max_features=sqrt, max_depth=1 \n",
      "[CV]  n_estimators=172, min_samples_split=5, min_samples_leaf=5, max_features=sqrt, max_depth=1, total=   0.9s\n",
      "[CV] n_estimators=172, min_samples_split=5, min_samples_leaf=5, max_features=sqrt, max_depth=1 \n"
     ]
    },
    {
     "name": "stderr",
     "output_type": "stream",
     "text": [
      "[Parallel(n_jobs=1)]: Done   1 out of   1 | elapsed:    0.9s remaining:    0.0s\n"
     ]
    },
    {
     "name": "stdout",
     "output_type": "stream",
     "text": [
      "[CV]  n_estimators=172, min_samples_split=5, min_samples_leaf=5, max_features=sqrt, max_depth=1, total=   0.6s\n",
      "[CV] n_estimators=172, min_samples_split=5, min_samples_leaf=5, max_features=sqrt, max_depth=1 \n",
      "[CV]  n_estimators=172, min_samples_split=5, min_samples_leaf=5, max_features=sqrt, max_depth=1, total=   0.5s\n",
      "[CV] n_estimators=172, min_samples_split=5, min_samples_leaf=5, max_features=sqrt, max_depth=1 \n",
      "[CV]  n_estimators=172, min_samples_split=5, min_samples_leaf=5, max_features=sqrt, max_depth=1, total=   0.5s\n",
      "[CV] n_estimators=172, min_samples_split=5, min_samples_leaf=5, max_features=sqrt, max_depth=1 \n",
      "[CV]  n_estimators=172, min_samples_split=5, min_samples_leaf=5, max_features=sqrt, max_depth=1, total=   0.5s\n",
      "[CV] n_estimators=190, min_samples_split=10, min_samples_leaf=2, max_features=sqrt, max_depth=2 \n",
      "[CV]  n_estimators=190, min_samples_split=10, min_samples_leaf=2, max_features=sqrt, max_depth=2, total=   0.7s\n",
      "[CV] n_estimators=190, min_samples_split=10, min_samples_leaf=2, max_features=sqrt, max_depth=2 \n",
      "[CV]  n_estimators=190, min_samples_split=10, min_samples_leaf=2, max_features=sqrt, max_depth=2, total=   0.7s\n",
      "[CV] n_estimators=190, min_samples_split=10, min_samples_leaf=2, max_features=sqrt, max_depth=2 \n",
      "[CV]  n_estimators=190, min_samples_split=10, min_samples_leaf=2, max_features=sqrt, max_depth=2, total=   0.7s\n",
      "[CV] n_estimators=190, min_samples_split=10, min_samples_leaf=2, max_features=sqrt, max_depth=2 \n",
      "[CV]  n_estimators=190, min_samples_split=10, min_samples_leaf=2, max_features=sqrt, max_depth=2, total=   0.7s\n",
      "[CV] n_estimators=190, min_samples_split=10, min_samples_leaf=2, max_features=sqrt, max_depth=2 \n",
      "[CV]  n_estimators=190, min_samples_split=10, min_samples_leaf=2, max_features=sqrt, max_depth=2, total=   0.7s\n",
      "[CV] n_estimators=118, min_samples_split=100, min_samples_leaf=5, max_features=auto, max_depth=2 \n",
      "[CV]  n_estimators=118, min_samples_split=100, min_samples_leaf=5, max_features=auto, max_depth=2, total=   1.0s\n",
      "[CV] n_estimators=118, min_samples_split=100, min_samples_leaf=5, max_features=auto, max_depth=2 \n",
      "[CV]  n_estimators=118, min_samples_split=100, min_samples_leaf=5, max_features=auto, max_depth=2, total=   1.0s\n",
      "[CV] n_estimators=118, min_samples_split=100, min_samples_leaf=5, max_features=auto, max_depth=2 \n",
      "[CV]  n_estimators=118, min_samples_split=100, min_samples_leaf=5, max_features=auto, max_depth=2, total=   1.1s\n",
      "[CV] n_estimators=118, min_samples_split=100, min_samples_leaf=5, max_features=auto, max_depth=2 \n",
      "[CV]  n_estimators=118, min_samples_split=100, min_samples_leaf=5, max_features=auto, max_depth=2, total=   1.0s\n",
      "[CV] n_estimators=118, min_samples_split=100, min_samples_leaf=5, max_features=auto, max_depth=2 \n",
      "[CV]  n_estimators=118, min_samples_split=100, min_samples_leaf=5, max_features=auto, max_depth=2, total=   1.8s\n",
      "[CV] n_estimators=127, min_samples_split=5, min_samples_leaf=5, max_features=auto, max_depth=2 \n",
      "[CV]  n_estimators=127, min_samples_split=5, min_samples_leaf=5, max_features=auto, max_depth=2, total=   2.0s\n",
      "[CV] n_estimators=127, min_samples_split=5, min_samples_leaf=5, max_features=auto, max_depth=2 \n",
      "[CV]  n_estimators=127, min_samples_split=5, min_samples_leaf=5, max_features=auto, max_depth=2, total=   1.3s\n",
      "[CV] n_estimators=127, min_samples_split=5, min_samples_leaf=5, max_features=auto, max_depth=2 \n",
      "[CV]  n_estimators=127, min_samples_split=5, min_samples_leaf=5, max_features=auto, max_depth=2, total=   1.5s\n",
      "[CV] n_estimators=127, min_samples_split=5, min_samples_leaf=5, max_features=auto, max_depth=2 \n",
      "[CV]  n_estimators=127, min_samples_split=5, min_samples_leaf=5, max_features=auto, max_depth=2, total=   1.4s\n",
      "[CV] n_estimators=127, min_samples_split=5, min_samples_leaf=5, max_features=auto, max_depth=2 \n",
      "[CV]  n_estimators=127, min_samples_split=5, min_samples_leaf=5, max_features=auto, max_depth=2, total=   1.4s\n",
      "[CV] n_estimators=154, min_samples_split=5, min_samples_leaf=10, max_features=auto, max_depth=3 \n",
      "[CV]  n_estimators=154, min_samples_split=5, min_samples_leaf=10, max_features=auto, max_depth=3, total=   2.2s\n",
      "[CV] n_estimators=154, min_samples_split=5, min_samples_leaf=10, max_features=auto, max_depth=3 \n",
      "[CV]  n_estimators=154, min_samples_split=5, min_samples_leaf=10, max_features=auto, max_depth=3, total=   2.2s\n",
      "[CV] n_estimators=154, min_samples_split=5, min_samples_leaf=10, max_features=auto, max_depth=3 \n",
      "[CV]  n_estimators=154, min_samples_split=5, min_samples_leaf=10, max_features=auto, max_depth=3, total=   2.2s\n",
      "[CV] n_estimators=154, min_samples_split=5, min_samples_leaf=10, max_features=auto, max_depth=3 \n",
      "[CV]  n_estimators=154, min_samples_split=5, min_samples_leaf=10, max_features=auto, max_depth=3, total=   2.5s\n",
      "[CV] n_estimators=154, min_samples_split=5, min_samples_leaf=10, max_features=auto, max_depth=3 \n",
      "[CV]  n_estimators=154, min_samples_split=5, min_samples_leaf=10, max_features=auto, max_depth=3, total=   2.5s\n",
      "[CV] n_estimators=181, min_samples_split=2, min_samples_leaf=1, max_features=sqrt, max_depth=4 \n",
      "[CV]  n_estimators=181, min_samples_split=2, min_samples_leaf=1, max_features=sqrt, max_depth=4, total=   1.7s\n",
      "[CV] n_estimators=181, min_samples_split=2, min_samples_leaf=1, max_features=sqrt, max_depth=4 \n",
      "[CV]  n_estimators=181, min_samples_split=2, min_samples_leaf=1, max_features=sqrt, max_depth=4, total=   1.6s\n",
      "[CV] n_estimators=181, min_samples_split=2, min_samples_leaf=1, max_features=sqrt, max_depth=4 \n",
      "[CV]  n_estimators=181, min_samples_split=2, min_samples_leaf=1, max_features=sqrt, max_depth=4, total=   1.4s\n",
      "[CV] n_estimators=181, min_samples_split=2, min_samples_leaf=1, max_features=sqrt, max_depth=4 \n",
      "[CV]  n_estimators=181, min_samples_split=2, min_samples_leaf=1, max_features=sqrt, max_depth=4, total=   1.4s\n",
      "[CV] n_estimators=181, min_samples_split=2, min_samples_leaf=1, max_features=sqrt, max_depth=4 \n",
      "[CV]  n_estimators=181, min_samples_split=2, min_samples_leaf=1, max_features=sqrt, max_depth=4, total=   1.4s\n",
      "[CV] n_estimators=190, min_samples_split=15, min_samples_leaf=10, max_features=sqrt, max_depth=1 \n",
      "[CV]  n_estimators=190, min_samples_split=15, min_samples_leaf=10, max_features=sqrt, max_depth=1, total=   0.9s\n",
      "[CV] n_estimators=190, min_samples_split=15, min_samples_leaf=10, max_features=sqrt, max_depth=1 \n",
      "[CV]  n_estimators=190, min_samples_split=15, min_samples_leaf=10, max_features=sqrt, max_depth=1, total=   0.9s\n",
      "[CV] n_estimators=190, min_samples_split=15, min_samples_leaf=10, max_features=sqrt, max_depth=1 \n",
      "[CV]  n_estimators=190, min_samples_split=15, min_samples_leaf=10, max_features=sqrt, max_depth=1, total=   1.0s\n",
      "[CV] n_estimators=190, min_samples_split=15, min_samples_leaf=10, max_features=sqrt, max_depth=1 \n",
      "[CV]  n_estimators=190, min_samples_split=15, min_samples_leaf=10, max_features=sqrt, max_depth=1, total=   0.9s\n",
      "[CV] n_estimators=190, min_samples_split=15, min_samples_leaf=10, max_features=sqrt, max_depth=1 \n",
      "[CV]  n_estimators=190, min_samples_split=15, min_samples_leaf=10, max_features=sqrt, max_depth=1, total=   0.9s\n",
      "[CV] n_estimators=118, min_samples_split=15, min_samples_leaf=1, max_features=sqrt, max_depth=2 \n",
      "[CV]  n_estimators=118, min_samples_split=15, min_samples_leaf=1, max_features=sqrt, max_depth=2, total=   0.7s\n",
      "[CV] n_estimators=118, min_samples_split=15, min_samples_leaf=1, max_features=sqrt, max_depth=2 \n",
      "[CV]  n_estimators=118, min_samples_split=15, min_samples_leaf=1, max_features=sqrt, max_depth=2, total=   0.5s\n",
      "[CV] n_estimators=118, min_samples_split=15, min_samples_leaf=1, max_features=sqrt, max_depth=2 \n",
      "[CV]  n_estimators=118, min_samples_split=15, min_samples_leaf=1, max_features=sqrt, max_depth=2, total=   0.7s\n",
      "[CV] n_estimators=118, min_samples_split=15, min_samples_leaf=1, max_features=sqrt, max_depth=2 \n",
      "[CV]  n_estimators=118, min_samples_split=15, min_samples_leaf=1, max_features=sqrt, max_depth=2, total=   0.6s\n",
      "[CV] n_estimators=118, min_samples_split=15, min_samples_leaf=1, max_features=sqrt, max_depth=2 \n",
      "[CV]  n_estimators=118, min_samples_split=15, min_samples_leaf=1, max_features=sqrt, max_depth=2, total=   0.7s\n",
      "[CV] n_estimators=154, min_samples_split=10, min_samples_leaf=2, max_features=sqrt, max_depth=1 \n",
      "[CV]  n_estimators=154, min_samples_split=10, min_samples_leaf=2, max_features=sqrt, max_depth=1, total=   0.7s\n",
      "[CV] n_estimators=154, min_samples_split=10, min_samples_leaf=2, max_features=sqrt, max_depth=1 \n"
     ]
    },
    {
     "name": "stdout",
     "output_type": "stream",
     "text": [
      "[CV]  n_estimators=154, min_samples_split=10, min_samples_leaf=2, max_features=sqrt, max_depth=1, total=   0.7s\n",
      "[CV] n_estimators=154, min_samples_split=10, min_samples_leaf=2, max_features=sqrt, max_depth=1 \n",
      "[CV]  n_estimators=154, min_samples_split=10, min_samples_leaf=2, max_features=sqrt, max_depth=1, total=   0.7s\n",
      "[CV] n_estimators=154, min_samples_split=10, min_samples_leaf=2, max_features=sqrt, max_depth=1 \n",
      "[CV]  n_estimators=154, min_samples_split=10, min_samples_leaf=2, max_features=sqrt, max_depth=1, total=   0.7s\n",
      "[CV] n_estimators=154, min_samples_split=10, min_samples_leaf=2, max_features=sqrt, max_depth=1 \n",
      "[CV]  n_estimators=154, min_samples_split=10, min_samples_leaf=2, max_features=sqrt, max_depth=1, total=   0.7s\n",
      "[CV] n_estimators=154, min_samples_split=15, min_samples_leaf=1, max_features=auto, max_depth=3 \n",
      "[CV]  n_estimators=154, min_samples_split=15, min_samples_leaf=1, max_features=auto, max_depth=3, total=   3.1s\n",
      "[CV] n_estimators=154, min_samples_split=15, min_samples_leaf=1, max_features=auto, max_depth=3 \n",
      "[CV]  n_estimators=154, min_samples_split=15, min_samples_leaf=1, max_features=auto, max_depth=3, total=   3.7s\n",
      "[CV] n_estimators=154, min_samples_split=15, min_samples_leaf=1, max_features=auto, max_depth=3 \n",
      "[CV]  n_estimators=154, min_samples_split=15, min_samples_leaf=1, max_features=auto, max_depth=3, total=   3.4s\n",
      "[CV] n_estimators=154, min_samples_split=15, min_samples_leaf=1, max_features=auto, max_depth=3 \n",
      "[CV]  n_estimators=154, min_samples_split=15, min_samples_leaf=1, max_features=auto, max_depth=3, total=   3.3s\n",
      "[CV] n_estimators=154, min_samples_split=15, min_samples_leaf=1, max_features=auto, max_depth=3 \n",
      "[CV]  n_estimators=154, min_samples_split=15, min_samples_leaf=1, max_features=auto, max_depth=3, total=   3.2s\n"
     ]
    },
    {
     "name": "stderr",
     "output_type": "stream",
     "text": [
      "[Parallel(n_jobs=1)]: Done  50 out of  50 | elapsed:  1.3min finished\n"
     ]
    },
    {
     "data": {
      "text/plain": [
       "RandomizedSearchCV(cv=5, error_score='raise',\n",
       "          estimator=RandomForestRegressor(bootstrap=True, criterion='mse', max_depth=None,\n",
       "           max_features='auto', max_leaf_nodes=None,\n",
       "           min_impurity_decrease=0.0, min_impurity_split=None,\n",
       "           min_samples_leaf=1, min_samples_split=2,\n",
       "           min_weight_fraction_leaf=0.0, n_estimators=10, n_jobs=1,\n",
       "           oob_score=False, random_state=None, verbose=0, warm_start=False),\n",
       "          fit_params=None, iid=True, n_iter=10, n_jobs=1,\n",
       "          param_distributions={'n_estimators': [100, 109, 118, 127, 136, 145, 154, 163, 172, 181, 190, 200], 'max_features': ['auto', 'sqrt'], 'max_depth': [1, 1, 2, 3, 4, 5], 'min_samples_split': [2, 5, 10, 15, 100], 'min_samples_leaf': [1, 2, 5, 10]},\n",
       "          pre_dispatch='2*n_jobs', random_state=42, refit=True,\n",
       "          return_train_score='warn', scoring='neg_mean_squared_error',\n",
       "          verbose=2)"
      ]
     },
     "execution_count": 85,
     "metadata": {},
     "output_type": "execute_result"
    }
   ],
   "source": [
    "rf_random.fit(X_train,y_train)"
   ]
  },
  {
   "cell_type": "code",
   "execution_count": null,
   "metadata": {},
   "outputs": [],
   "source": []
  },
  {
   "cell_type": "code",
   "execution_count": 86,
   "metadata": {},
   "outputs": [
    {
     "data": {
      "text/plain": [
       "{'n_estimators': 154,\n",
       " 'min_samples_split': 5,\n",
       " 'min_samples_leaf': 10,\n",
       " 'max_features': 'auto',\n",
       " 'max_depth': 3}"
      ]
     },
     "execution_count": 86,
     "metadata": {},
     "output_type": "execute_result"
    }
   ],
   "source": [
    "rf_random.best_params_"
   ]
  },
  {
   "cell_type": "code",
   "execution_count": 87,
   "metadata": {},
   "outputs": [
    {
     "data": {
      "text/plain": [
       "-954909.6875224072"
      ]
     },
     "execution_count": 87,
     "metadata": {},
     "output_type": "execute_result"
    }
   ],
   "source": [
    "rf_random.best_score_"
   ]
  },
  {
   "cell_type": "code",
   "execution_count": 88,
   "metadata": {},
   "outputs": [],
   "source": [
    "predictions=rf_random.predict(X_test)"
   ]
  },
  {
   "cell_type": "code",
   "execution_count": 89,
   "metadata": {},
   "outputs": [
    {
     "data": {
      "application/javascript": [
       "\n",
       "        if (window._pyforest_update_imports_cell) { window._pyforest_update_imports_cell('import seaborn as sns'); }\n",
       "    "
      ],
      "text/plain": [
       "<IPython.core.display.Javascript object>"
      ]
     },
     "metadata": {},
     "output_type": "display_data"
    },
    {
     "name": "stderr",
     "output_type": "stream",
     "text": [
      "C:\\Users\\Sawali-7\\Anaconda3\\lib\\site-packages\\matplotlib\\axes\\_axes.py:6462: UserWarning: The 'normed' kwarg is deprecated, and has been replaced by the 'density' kwarg.\n",
      "  warnings.warn(\"The 'normed' kwarg is deprecated, and has been \"\n"
     ]
    },
    {
     "data": {
      "text/plain": [
       "<matplotlib.axes._subplots.AxesSubplot at 0x547ae10>"
      ]
     },
     "execution_count": 89,
     "metadata": {},
     "output_type": "execute_result"
    },
    {
     "data": {
      "image/png": "[encoded data removed]",
      "text/plain": [
       "<Figure size 432x288 with 1 Axes>"
      ]
     },
     "metadata": {},
     "output_type": "display_data"
    }
   ],
   "source": [
    "sns.distplot(y_test-predictions)"
   ]
  },
  {
   "cell_type": "code",
   "execution_count": 90,
   "metadata": {},
   "outputs": [
    {
     "data": {
      "text/plain": [
       "<matplotlib.collections.PathCollection at 0x5584630>"
      ]
     },
     "execution_count": 90,
     "metadata": {},
     "output_type": "execute_result"
    },
    {
     "data": {
      "image/png": "[encoded data removed]",
      "text/plain": [
       "<Figure size 432x288 with 1 Axes>"
      ]
     },
     "metadata": {},
     "output_type": "display_data"
    }
   ],
   "source": [
    "plt.scatter(y_test,predictions)"
   ]
  },
  {
   "cell_type": "code",
   "execution_count": 91,
   "metadata": {},
   "outputs": [],
   "source": [
    "from sklearn import metrics"
   ]
  },
  {
   "cell_type": "code",
   "execution_count": 92,
   "metadata": {},
   "outputs": [
    {
     "name": "stdout",
     "output_type": "stream",
     "text": [
      "MAE: 664.8924809342984\n",
      "MSE: 1005969.8822555017\n",
      "RMSE: 1002.980499439297\n"
     ]
    }
   ],
   "source": [
    "print('MAE:', metrics.mean_absolute_error(y_test, predictions))\n",
    "print('MSE:', metrics.mean_squared_error(y_test, predictions))\n",
    "print('RMSE:', np.sqrt(metrics.mean_squared_error(y_test, predictions)))"
   ]
  },
  {
   "cell_type": "code",
   "execution_count": 93,
   "metadata": {},
   "outputs": [],
   "source": [
    "import pickle\n",
    "# open a file, where you ant to store the data\n",
    "file = open('random_forest_regression_model.pkl', 'wb')\n",
    "\n",
    "# dump information to that file\n",
    "pickle.dump(rf_random, file)"
   ]
  },
  {
   "cell_type": "code",
   "execution_count": null,
   "metadata": {},
   "outputs": [],
   "source": []
  },
  {
   "cell_type": "code",
   "execution_count": 94,
   "metadata": {},
   "outputs": [
    {
     "data": {
      "text/plain": [
       "'C:\\\\Users\\\\Sawali-7\\\\prabhat\\\\all data\\\\prabhat\\\\prabhat data for project'"
      ]
     },
     "execution_count": 94,
     "metadata": {},
     "output_type": "execute_result"
    }
   ],
   "source": [
    "os.getcwd()"
   ]
  },
  {
   "cell_type": "code",
   "execution_count": null,
   "metadata": {},
   "outputs": [],
   "source": []
  },
  {
   "cell_type": "code",
   "execution_count": null,
   "metadata": {},
   "outputs": [],
   "source": []
  },
  {
   "cell_type": "code",
   "execution_count": null,
   "metadata": {},
   "outputs": [],
   "source": []
  },
  {
   "cell_type": "code",
   "execution_count": null,
   "metadata": {},
   "outputs": [],
   "source": []
  },
  {
   "cell_type": "code",
   "execution_count": 148,
   "metadata": {},
   "outputs": [],
   "source": []
  },
  {
   "cell_type": "code",
   "execution_count": 149,
   "metadata": {},
   "outputs": [],
   "source": []
  },
  {
   "cell_type": "code",
   "execution_count": 150,
   "metadata": {},
   "outputs": [],
   "source": []
  },
  {
   "cell_type": "code",
   "execution_count": null,
   "metadata": {},
   "outputs": [],
   "source": []
  },
  {
   "cell_type": "code",
   "execution_count": null,
   "metadata": {},
   "outputs": [],
   "source": []
  },
  {
   "cell_type": "code",
   "execution_count": null,
   "metadata": {},
   "outputs": [],
   "source": []
  },
  {
   "cell_type": "code",
   "execution_count": null,
   "metadata": {},
   "outputs": [],
   "source": []
  },
  {
   "cell_type": "code",
   "execution_count": null,
   "metadata": {},
   "outputs": [],
   "source": []
  },
  {
   "cell_type": "code",
   "execution_count": null,
   "metadata": {},
   "outputs": [],
   "source": []
  },
  {
   "cell_type": "code",
   "execution_count": 157,
   "metadata": {},
   "outputs": [],
   "source": []
  },
  {
   "cell_type": "code",
   "execution_count": null,
   "metadata": {},
   "outputs": [],
   "source": []
  },
  {
   "cell_type": "code",
   "execution_count": null,
   "metadata": {},
   "outputs": [],
   "source": []
  },
  {
   "cell_type": "code",
   "execution_count": null,
   "metadata": {},
   "outputs": [],
   "source": []
  },
  {
   "cell_type": "code",
   "execution_count": 160,
   "metadata": {},
   "outputs": [],
   "source": []
  },
  {
   "cell_type": "code",
   "execution_count": null,
   "metadata": {},
   "outputs": [],
   "source": []
  },
  {
   "cell_type": "code",
   "execution_count": null,
   "metadata": {},
   "outputs": [],
   "source": []
  },
  {
   "cell_type": "code",
   "execution_count": null,
   "metadata": {},
   "outputs": [],
   "source": []
  },
  {
   "cell_type": "code",
   "execution_count": null,
   "metadata": {},
   "outputs": [],
   "source": []
  },
  {
   "cell_type": "code",
   "execution_count": null,
   "metadata": {},
   "outputs": [],
   "source": []
  },
  {
   "cell_type": "code",
   "execution_count": null,
   "metadata": {},
   "outputs": [],
   "source": []
  },
  {
   "cell_type": "markdown",
   "metadata": {},
   "source": []
  },
  {
   "cell_type": "code",
   "execution_count": null,
   "metadata": {},
   "outputs": [],
   "source": []
  },
  {
   "cell_type": "code",
   "execution_count": null,
   "metadata": {},
   "outputs": [],
   "source": []
  },
  {
   "cell_type": "code",
   "execution_count": null,
   "metadata": {},
   "outputs": [],
   "source": []
  },
  {
   "cell_type": "code",
   "execution_count": 168,
   "metadata": {},
   "outputs": [],
   "source": []
  },
  {
   "cell_type": "code",
   "execution_count": null,
   "metadata": {},
   "outputs": [],
   "source": []
  },
  {
   "cell_type": "code",
   "execution_count": null,
   "metadata": {},
   "outputs": [],
   "source": []
  },
  {
   "cell_type": "code",
   "execution_count": null,
   "metadata": {},
   "outputs": [],
   "source": []
  },
  {
   "cell_type": "code",
   "execution_count": null,
   "metadata": {},
   "outputs": [],
   "source": []
  },
  {
   "cell_type": "code",
   "execution_count": null,
   "metadata": {},
   "outputs": [],
   "source": []
  },
  {
   "cell_type": "code",
   "execution_count": null,
   "metadata": {},
   "outputs": [],
   "source": []
  },
  {
   "cell_type": "code",
   "execution_count": 172,
   "metadata": {},
   "outputs": [],
   "source": []
  },
  {
   "cell_type": "code",
   "execution_count": 173,
   "metadata": {},
   "outputs": [],
   "source": []
  },
  {
   "cell_type": "code",
   "execution_count": 174,
   "metadata": {},
   "outputs": [],
   "source": []
  },
  {
   "cell_type": "code",
   "execution_count": null,
   "metadata": {},
   "outputs": [],
   "source": [
    "\n",
    "\n"
   ]
  },
  {
   "cell_type": "code",
   "execution_count": null,
   "metadata": {},
   "outputs": [],
   "source": []
  },
  {
   "cell_type": "code",
   "execution_count": 177,
   "metadata": {},
   "outputs": [],
   "source": []
  },
  {
   "cell_type": "code",
   "execution_count": 178,
   "metadata": {},
   "outputs": [],
   "source": []
  },
  {
   "cell_type": "code",
   "execution_count": null,
   "metadata": {},
   "outputs": [],
   "source": []
  },
  {
   "cell_type": "code",
   "execution_count": null,
   "metadata": {},
   "outputs": [],
   "source": []
  },
  {
   "cell_type": "code",
   "execution_count": null,
   "metadata": {},
   "outputs": [],
   "source": []
  },
  {
   "cell_type": "code",
   "execution_count": null,
   "metadata": {},
   "outputs": [],
   "source": []
  }
 ],
 "metadata": {
  "kernelspec": {
   "display_name": "Python 3",
   "language": "python",
   "name": "python3"
  },
  "language_info": {
   "codemirror_mode": {
    "name": "ipython",
    "version": 3
   },
   "file_extension": ".py",
   "mimetype": "text/x-python",
   "name": "python",
   "nbconvert_exporter": "python",
   "pygments_lexer": "ipython3",
   "version": "3.6.5"
  }
 },
 "nbformat": 4,
 "nbformat_minor": 2
}
